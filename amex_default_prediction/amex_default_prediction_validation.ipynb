{
 "cells": [
  {
   "cell_type": "code",
   "execution_count": 1,
   "id": "773d05c8",
   "metadata": {},
   "outputs": [],
   "source": [
    "from catboost import Pool, CatBoostClassifier, CatBoost\n",
    "from sklearn.model_selection import StratifiedKFold, train_test_split\n",
    "\n",
    "import vaex\n",
    "import pandas as pd\n",
    "\n",
    "import numpy as np\n",
    "from scipy.stats import uniform\n",
    "\n",
    "from amex_metric import amex_metric"
   ]
  },
  {
   "cell_type": "code",
   "execution_count": 2,
   "id": "bb170a0b",
   "metadata": {},
   "outputs": [],
   "source": [
    "def column_selector(df, original_col):\n",
    "    \n",
    "    all_cols = df.columns\n",
    "    selection = [agg_col for agg_col in all_cols if agg_col.startswith(original_col)]\n",
    "    \n",
    "    return selection"
   ]
  },
  {
   "cell_type": "code",
   "execution_count": 3,
   "id": "4454861b",
   "metadata": {},
   "outputs": [
    {
     "name": "stdout",
     "output_type": "stream",
     "text": [
      "(458913, 883)\n",
      "<class 'pandas.core.frame.DataFrame'>\n",
      "RangeIndex: 458913 entries, 0 to 458912\n",
      "Columns: 883 entries, P_2_mean to target\n",
      "dtypes: float32(846), int32(35), object(2)\n",
      "memory usage: 1.5+ GB\n"
     ]
    }
   ],
   "source": [
    "train = pd.read_parquet('train_agg_filtered_2.parquet')\n",
    "print(train.shape)\n",
    "train.info()"
   ]
  },
  {
   "cell_type": "code",
   "execution_count": 4,
   "id": "e906d1f9",
   "metadata": {},
   "outputs": [],
   "source": [
    "for col, coltype in zip(train.columns, train.dtypes.values):\n",
    "    if str(coltype).startswith('float'):\n",
    "        train[col] = train[col].astype('float16')\n",
    "    elif str(coltype).startswith('int'):\n",
    "        train[col] = train[col].astype('int16')"
   ]
  },
  {
   "cell_type": "code",
   "execution_count": 5,
   "id": "228e401d",
   "metadata": {},
   "outputs": [
    {
     "name": "stdout",
     "output_type": "stream",
     "text": [
      "<class 'pandas.core.frame.DataFrame'>\n",
      "RangeIndex: 458913 entries, 0 to 458912\n",
      "Columns: 883 entries, P_2_mean to target\n",
      "dtypes: float16(846), int16(35), object(2)\n",
      "memory usage: 778.1+ MB\n"
     ]
    }
   ],
   "source": [
    "train.info()"
   ]
  },
  {
   "cell_type": "code",
   "execution_count": 6,
   "id": "55c7b389",
   "metadata": {},
   "outputs": [],
   "source": [
    "# Columnn names lists for easier selection later on:\n",
    "# All columns\n",
    "all_columns = list(train.columns)\n",
    "# Training features\n",
    "training_features = list(set(all_columns) - set(['target']))\n",
    "# Categorical features (as per https://www.kaggle.com/competitions/amex-default-prediction/data)\n",
    "categorical_features_old = ['B_30', 'B_38', 'D_114', 'D_116', 'D_117', 'D_120', 'D_126', 'D_63', 'D_64',\n",
    "                        'D_66', 'D_68']\n",
    "categorical_features = []\n",
    "for i in range(len(categorical_features_old)):\n",
    "    categorical_features += column_selector(train, categorical_features_old[i])\n",
    "    \n",
    "numerical_features = list(set(training_features) - set(categorical_features))"
   ]
  },
  {
   "cell_type": "markdown",
   "id": "b3e46046",
   "metadata": {},
   "source": [
    "# Cross-validation"
   ]
  },
  {
   "cell_type": "code",
   "execution_count": 7,
   "id": "28c294bd",
   "metadata": {
    "scrolled": false
   },
   "outputs": [
    {
     "name": "stdout",
     "output_type": "stream",
     "text": [
      "%==============================================================\n",
      "                      Fold number 1\n",
      "\n",
      "%==============================================================\n"
     ]
    },
    {
     "data": {
      "application/vnd.jupyter.widget-view+json": {
       "model_id": "6137adaa5b28470fb5b4b642635be1c1",
       "version_major": 2,
       "version_minor": 0
      },
      "text/plain": [
       "MetricVisualizer(layout=Layout(align_self='stretch', height='500px'))"
      ]
     },
     "metadata": {},
     "output_type": "display_data"
    },
    {
     "name": "stdout",
     "output_type": "stream",
     "text": [
      "0:\tlearn: 0.6121590\ttest: 0.6118526\tbest: 0.6118526 (0)\ttotal: 258ms\tremaining: 10m 45s\n",
      "100:\tlearn: 0.2319206\ttest: 0.2329004\tbest: 0.2329004 (100)\ttotal: 18.8s\tremaining: 7m 26s\n",
      "200:\tlearn: 0.2245783\ttest: 0.2268836\tbest: 0.2268836 (200)\ttotal: 37.3s\tremaining: 7m 6s\n",
      "300:\tlearn: 0.2207461\ttest: 0.2244993\tbest: 0.2244993 (300)\ttotal: 55.5s\tremaining: 6m 45s\n",
      "400:\tlearn: 0.2179791\ttest: 0.2232712\tbest: 0.2232712 (400)\ttotal: 1m 13s\tremaining: 6m 24s\n",
      "500:\tlearn: 0.2156039\ttest: 0.2224669\tbest: 0.2224669 (500)\ttotal: 1m 31s\tremaining: 6m 4s\n",
      "600:\tlearn: 0.2134110\ttest: 0.2218989\tbest: 0.2218989 (600)\ttotal: 1m 49s\tremaining: 5m 44s\n",
      "700:\tlearn: 0.2114413\ttest: 0.2216055\tbest: 0.2216055 (700)\ttotal: 2m 7s\tremaining: 5m 26s\n",
      "800:\tlearn: 0.2095189\ttest: 0.2212755\tbest: 0.2212755 (800)\ttotal: 2m 26s\tremaining: 5m 10s\n",
      "900:\tlearn: 0.2076910\ttest: 0.2210368\tbest: 0.2210368 (900)\ttotal: 2m 52s\tremaining: 5m 6s\n",
      "1000:\tlearn: 0.2059589\ttest: 0.2209027\tbest: 0.2208923 (982)\ttotal: 3m 18s\tremaining: 4m 56s\n",
      "1100:\tlearn: 0.2042604\ttest: 0.2206809\tbest: 0.2206754 (1097)\ttotal: 3m 42s\tremaining: 4m 43s\n",
      "1200:\tlearn: 0.2025813\ttest: 0.2205028\tbest: 0.2205028 (1200)\ttotal: 4m 11s\tremaining: 4m 32s\n",
      "1300:\tlearn: 0.2008855\ttest: 0.2203667\tbest: 0.2203533 (1280)\ttotal: 4m 42s\tremaining: 4m 20s\n",
      "1400:\tlearn: 0.1992826\ttest: 0.2202627\tbest: 0.2202542 (1391)\ttotal: 5m 19s\tremaining: 4m 10s\n",
      "1500:\tlearn: 0.1977297\ttest: 0.2202153\tbest: 0.2202048 (1499)\ttotal: 5m 56s\tremaining: 3m 57s\n",
      "1600:\tlearn: 0.1961383\ttest: 0.2201454\tbest: 0.2201434 (1599)\ttotal: 6m 42s\tremaining: 3m 46s\n",
      "1700:\tlearn: 0.1945844\ttest: 0.2200387\tbest: 0.2200387 (1700)\ttotal: 7m 33s\tremaining: 3m 32s\n",
      "1800:\tlearn: 0.1930677\ttest: 0.2199190\tbest: 0.2199179 (1791)\ttotal: 8m 31s\tremaining: 3m 18s\n",
      "1900:\tlearn: 0.1915910\ttest: 0.2198769\tbest: 0.2198713 (1891)\ttotal: 9m 48s\tremaining: 3m 5s\n",
      "2000:\tlearn: 0.1901243\ttest: 0.2198324\tbest: 0.2198290 (1999)\ttotal: 11m 13s\tremaining: 2m 47s\n",
      "2100:\tlearn: 0.1886575\ttest: 0.2198030\tbest: 0.2198004 (2069)\ttotal: 12m 59s\tremaining: 2m 27s\n",
      "2200:\tlearn: 0.1872358\ttest: 0.2198394\tbest: 0.2197847 (2117)\ttotal: 14m 37s\tremaining: 1m 59s\n",
      "2300:\tlearn: 0.1858288\ttest: 0.2198004\tbest: 0.2197787 (2249)\ttotal: 16m 17s\tremaining: 1m 24s\n",
      "2400:\tlearn: 0.1844569\ttest: 0.2198243\tbest: 0.2197787 (2249)\ttotal: 17m 59s\tremaining: 44.5s\n",
      "2499:\tlearn: 0.1830691\ttest: 0.2198089\tbest: 0.2197787 (2249)\ttotal: 19m 40s\tremaining: 0us\n",
      "bestTest = 0.2197786874\n",
      "bestIteration = 2249\n",
      "Shrink model to first 2250 iterations.\n",
      "%==============================================================\n",
      "                      Fold number 2\n",
      "\n",
      "%==============================================================\n"
     ]
    },
    {
     "data": {
      "application/vnd.jupyter.widget-view+json": {
       "model_id": "83ad22026b1545a8b3c2f1bcfa71c36d",
       "version_major": 2,
       "version_minor": 0
      },
      "text/plain": [
       "MetricVisualizer(layout=Layout(align_self='stretch', height='500px'))"
      ]
     },
     "metadata": {},
     "output_type": "display_data"
    },
    {
     "name": "stdout",
     "output_type": "stream",
     "text": [
      "0:\tlearn: 0.6148822\ttest: 0.6148850\tbest: 0.6148850 (0)\ttotal: 327ms\tremaining: 13m 37s\n",
      "100:\tlearn: 0.2321101\ttest: 0.2335542\tbest: 0.2335542 (100)\ttotal: 18.8s\tremaining: 7m 26s\n",
      "200:\tlearn: 0.2247857\ttest: 0.2273834\tbest: 0.2273834 (200)\ttotal: 38.3s\tremaining: 7m 17s\n",
      "300:\tlearn: 0.2208365\ttest: 0.2247666\tbest: 0.2247666 (300)\ttotal: 1m 20s\tremaining: 9m 50s\n",
      "400:\tlearn: 0.2180604\ttest: 0.2235646\tbest: 0.2235646 (400)\ttotal: 2m 27s\tremaining: 12m 54s\n",
      "500:\tlearn: 0.2156232\ttest: 0.2227481\tbest: 0.2227481 (500)\ttotal: 4m 15s\tremaining: 16m 58s\n",
      "600:\tlearn: 0.2134808\ttest: 0.2222250\tbest: 0.2222219 (599)\ttotal: 5m 57s\tremaining: 18m 49s\n",
      "700:\tlearn: 0.2114228\ttest: 0.2217769\tbest: 0.2217754 (699)\ttotal: 7m 24s\tremaining: 19m\n",
      "800:\tlearn: 0.2095345\ttest: 0.2214919\tbest: 0.2214830 (798)\ttotal: 9m 11s\tremaining: 19m 28s\n",
      "900:\tlearn: 0.2077171\ttest: 0.2212819\tbest: 0.2212819 (900)\ttotal: 10m 51s\tremaining: 19m 16s\n",
      "1000:\tlearn: 0.2059771\ttest: 0.2210751\tbest: 0.2210751 (1000)\ttotal: 12m 23s\tremaining: 18m 34s\n",
      "1100:\tlearn: 0.2043023\ttest: 0.2209608\tbest: 0.2209408 (1073)\ttotal: 14m 14s\tremaining: 18m 5s\n",
      "1200:\tlearn: 0.2026478\ttest: 0.2208727\tbest: 0.2208727 (1200)\ttotal: 15m 54s\tremaining: 17m 12s\n",
      "1300:\tlearn: 0.2010052\ttest: 0.2207839\tbest: 0.2207814 (1299)\ttotal: 17m 37s\tremaining: 16m 14s\n",
      "1400:\tlearn: 0.1993969\ttest: 0.2206116\tbest: 0.2206022 (1392)\ttotal: 19m 20s\tremaining: 15m 10s\n",
      "1500:\tlearn: 0.1978150\ttest: 0.2205923\tbest: 0.2205470 (1460)\ttotal: 21m 3s\tremaining: 14m\n",
      "1600:\tlearn: 0.1962862\ttest: 0.2205051\tbest: 0.2205051 (1600)\ttotal: 22m 39s\tremaining: 12m 43s\n",
      "1700:\tlearn: 0.1947657\ttest: 0.2203910\tbest: 0.2203868 (1689)\ttotal: 24m 30s\tremaining: 11m 30s\n",
      "1800:\tlearn: 0.1932709\ttest: 0.2203362\tbest: 0.2203349 (1790)\ttotal: 26m 20s\tremaining: 10m 13s\n",
      "1900:\tlearn: 0.1917945\ttest: 0.2202843\tbest: 0.2202780 (1897)\ttotal: 28m 2s\tremaining: 8m 50s\n",
      "2000:\tlearn: 0.1903305\ttest: 0.2202321\tbest: 0.2202321 (2000)\ttotal: 29m 53s\tremaining: 7m 27s\n",
      "2100:\tlearn: 0.1888873\ttest: 0.2202143\tbest: 0.2202026 (2086)\ttotal: 31m 39s\tremaining: 6m\n",
      "2200:\tlearn: 0.1874607\ttest: 0.2202050\tbest: 0.2202017 (2111)\ttotal: 33m 34s\tremaining: 4m 33s\n",
      "2300:\tlearn: 0.1860712\ttest: 0.2202082\tbest: 0.2201953 (2226)\ttotal: 35m 13s\tremaining: 3m 2s\n",
      "2400:\tlearn: 0.1846716\ttest: 0.2202303\tbest: 0.2201871 (2315)\ttotal: 37m 2s\tremaining: 1m 31s\n",
      "2499:\tlearn: 0.1832995\ttest: 0.2202070\tbest: 0.2201871 (2315)\ttotal: 38m 48s\tremaining: 0us\n",
      "bestTest = 0.2201871321\n",
      "bestIteration = 2315\n",
      "Shrink model to first 2316 iterations.\n",
      "%==============================================================\n",
      "                      Fold number 3\n",
      "\n",
      "%==============================================================\n"
     ]
    },
    {
     "data": {
      "application/vnd.jupyter.widget-view+json": {
       "model_id": "161ece1c8f4b42c193a689d2a0153399",
       "version_major": 2,
       "version_minor": 0
      },
      "text/plain": [
       "MetricVisualizer(layout=Layout(align_self='stretch', height='500px'))"
      ]
     },
     "metadata": {},
     "output_type": "display_data"
    },
    {
     "name": "stdout",
     "output_type": "stream",
     "text": [
      "0:\tlearn: 0.6116431\ttest: 0.6119281\tbest: 0.6119281 (0)\ttotal: 253ms\tremaining: 10m 31s\n",
      "100:\tlearn: 0.2321313\ttest: 0.2331222\tbest: 0.2331222 (100)\ttotal: 18.7s\tremaining: 7m 23s\n",
      "200:\tlearn: 0.2247632\ttest: 0.2268488\tbest: 0.2268488 (200)\ttotal: 38.8s\tremaining: 7m 24s\n",
      "300:\tlearn: 0.2207768\ttest: 0.2242841\tbest: 0.2242841 (300)\ttotal: 1m 7s\tremaining: 8m 15s\n",
      "400:\tlearn: 0.2180584\ttest: 0.2231170\tbest: 0.2231170 (400)\ttotal: 2m 31s\tremaining: 13m 15s\n",
      "500:\tlearn: 0.2156734\ttest: 0.2223296\tbest: 0.2223296 (500)\ttotal: 4m 17s\tremaining: 17m 7s\n",
      "600:\tlearn: 0.2134816\ttest: 0.2218315\tbest: 0.2218291 (599)\ttotal: 6m 10s\tremaining: 19m 29s\n",
      "700:\tlearn: 0.2114212\ttest: 0.2213875\tbest: 0.2213875 (700)\ttotal: 7m 48s\tremaining: 20m 2s\n",
      "800:\tlearn: 0.2095396\ttest: 0.2210764\tbest: 0.2210736 (797)\ttotal: 9m 28s\tremaining: 20m 5s\n",
      "900:\tlearn: 0.2077444\ttest: 0.2208682\tbest: 0.2208682 (900)\ttotal: 10m 59s\tremaining: 19m 30s\n",
      "1000:\tlearn: 0.2059397\ttest: 0.2206815\tbest: 0.2206786 (996)\ttotal: 12m 45s\tremaining: 19m 5s\n",
      "1100:\tlearn: 0.2042226\ttest: 0.2204519\tbest: 0.2204519 (1100)\ttotal: 14m 34s\tremaining: 18m 31s\n",
      "1200:\tlearn: 0.2024955\ttest: 0.2203266\tbest: 0.2203266 (1200)\ttotal: 16m 25s\tremaining: 17m 45s\n",
      "1300:\tlearn: 0.2008450\ttest: 0.2202574\tbest: 0.2202481 (1293)\ttotal: 18m 28s\tremaining: 17m 1s\n",
      "1400:\tlearn: 0.1992762\ttest: 0.2202325\tbest: 0.2202325 (1400)\ttotal: 20m 18s\tremaining: 15m 55s\n",
      "1500:\tlearn: 0.1976753\ttest: 0.2201446\tbest: 0.2201384 (1495)\ttotal: 22m 12s\tremaining: 14m 46s\n",
      "1600:\tlearn: 0.1961321\ttest: 0.2200616\tbest: 0.2200616 (1600)\ttotal: 23m 50s\tremaining: 13m 23s\n",
      "1700:\tlearn: 0.1946039\ttest: 0.2200408\tbest: 0.2200141 (1662)\ttotal: 25m 40s\tremaining: 12m 3s\n",
      "1800:\tlearn: 0.1931050\ttest: 0.2199960\tbest: 0.2199780 (1788)\ttotal: 27m 28s\tremaining: 10m 39s\n",
      "1900:\tlearn: 0.1915897\ttest: 0.2200097\tbest: 0.2199701 (1832)\ttotal: 29m 10s\tremaining: 9m 11s\n",
      "2000:\tlearn: 0.1901137\ttest: 0.2199729\tbest: 0.2199640 (1975)\ttotal: 30m 54s\tremaining: 7m 42s\n",
      "2100:\tlearn: 0.1886337\ttest: 0.2199032\tbest: 0.2198985 (2099)\ttotal: 32m 45s\tremaining: 6m 13s\n",
      "2200:\tlearn: 0.1872281\ttest: 0.2198288\tbest: 0.2198288 (2200)\ttotal: 34m 25s\tremaining: 4m 40s\n",
      "2300:\tlearn: 0.1858065\ttest: 0.2198088\tbest: 0.2197985 (2285)\ttotal: 36m 17s\tremaining: 3m 8s\n",
      "2400:\tlearn: 0.1844039\ttest: 0.2198265\tbest: 0.2197985 (2285)\ttotal: 38m 4s\tremaining: 1m 34s\n",
      "2499:\tlearn: 0.1830517\ttest: 0.2197743\tbest: 0.2197667 (2491)\ttotal: 40m\tremaining: 0us\n",
      "bestTest = 0.2197666643\n",
      "bestIteration = 2491\n",
      "Shrink model to first 2492 iterations.\n",
      "%==============================================================\n",
      "                      Fold number 4\n",
      "\n",
      "%==============================================================\n"
     ]
    },
    {
     "data": {
      "application/vnd.jupyter.widget-view+json": {
       "model_id": "514eb761f5b74c84b0a76f8e97f3a702",
       "version_major": 2,
       "version_minor": 0
      },
      "text/plain": [
       "MetricVisualizer(layout=Layout(align_self='stretch', height='500px'))"
      ]
     },
     "metadata": {},
     "output_type": "display_data"
    },
    {
     "name": "stdout",
     "output_type": "stream",
     "text": [
      "0:\tlearn: 0.6116439\ttest: 0.6116838\tbest: 0.6116838 (0)\ttotal: 289ms\tremaining: 12m 2s\n",
      "100:\tlearn: 0.2317063\ttest: 0.2340681\tbest: 0.2340681 (100)\ttotal: 18.9s\tremaining: 7m 29s\n",
      "200:\tlearn: 0.2241661\ttest: 0.2278442\tbest: 0.2278442 (200)\ttotal: 43s\tremaining: 8m 11s\n",
      "300:\tlearn: 0.2202532\ttest: 0.2254098\tbest: 0.2254098 (300)\ttotal: 2m 23s\tremaining: 17m 28s\n",
      "400:\tlearn: 0.2175224\ttest: 0.2242272\tbest: 0.2242272 (400)\ttotal: 4m 10s\tremaining: 21m 50s\n",
      "500:\tlearn: 0.2151325\ttest: 0.2235247\tbest: 0.2235247 (500)\ttotal: 5m 48s\tremaining: 23m 10s\n",
      "600:\tlearn: 0.2130253\ttest: 0.2229804\tbest: 0.2229804 (600)\ttotal: 7m 37s\tremaining: 24m 6s\n",
      "700:\tlearn: 0.2109796\ttest: 0.2225336\tbest: 0.2225336 (700)\ttotal: 9m 26s\tremaining: 24m 13s\n",
      "800:\tlearn: 0.2090780\ttest: 0.2222231\tbest: 0.2222231 (800)\ttotal: 11m 21s\tremaining: 24m 5s\n",
      "900:\tlearn: 0.2072173\ttest: 0.2219228\tbest: 0.2219228 (900)\ttotal: 13m 11s\tremaining: 23m 24s\n",
      "1000:\tlearn: 0.2054287\ttest: 0.2218340\tbest: 0.2218336 (999)\ttotal: 14m 50s\tremaining: 22m 13s\n",
      "1100:\tlearn: 0.2037316\ttest: 0.2217043\tbest: 0.2217043 (1100)\ttotal: 16m 32s\tremaining: 21m 1s\n",
      "1200:\tlearn: 0.2020503\ttest: 0.2216303\tbest: 0.2216297 (1199)\ttotal: 18m 24s\tremaining: 19m 54s\n",
      "1300:\tlearn: 0.2004133\ttest: 0.2214930\tbest: 0.2214900 (1295)\ttotal: 20m 14s\tremaining: 18m 39s\n",
      "1400:\tlearn: 0.1988324\ttest: 0.2213939\tbest: 0.2213850 (1397)\ttotal: 21m 47s\tremaining: 17m 5s\n",
      "1500:\tlearn: 0.1972454\ttest: 0.2213418\tbest: 0.2213366 (1498)\ttotal: 23m 30s\tremaining: 15m 39s\n",
      "1600:\tlearn: 0.1956738\ttest: 0.2212806\tbest: 0.2212715 (1592)\ttotal: 25m 15s\tremaining: 14m 10s\n",
      "1700:\tlearn: 0.1941600\ttest: 0.2212416\tbest: 0.2212116 (1664)\ttotal: 26m 55s\tremaining: 12m 39s\n",
      "1800:\tlearn: 0.1926560\ttest: 0.2212075\tbest: 0.2211899 (1783)\ttotal: 28m 44s\tremaining: 11m 9s\n",
      "1900:\tlearn: 0.1911421\ttest: 0.2212221\tbest: 0.2211894 (1841)\ttotal: 30m 27s\tremaining: 9m 35s\n",
      "2000:\tlearn: 0.1896561\ttest: 0.2211964\tbest: 0.2211893 (1984)\ttotal: 32m 19s\tremaining: 8m 3s\n",
      "2100:\tlearn: 0.1882462\ttest: 0.2211786\tbest: 0.2211752 (2099)\ttotal: 34m 8s\tremaining: 6m 28s\n",
      "2200:\tlearn: 0.1868206\ttest: 0.2211004\tbest: 0.2211004 (2200)\ttotal: 35m 55s\tremaining: 4m 52s\n",
      "2300:\tlearn: 0.1854584\ttest: 0.2211000\tbest: 0.2210881 (2247)\ttotal: 37m 37s\tremaining: 3m 15s\n",
      "2400:\tlearn: 0.1840674\ttest: 0.2210746\tbest: 0.2210491 (2352)\ttotal: 39m 22s\tremaining: 1m 37s\n",
      "2499:\tlearn: 0.1827307\ttest: 0.2211213\tbest: 0.2210491 (2352)\ttotal: 41m 7s\tremaining: 0us\n",
      "bestTest = 0.2210490747\n",
      "bestIteration = 2352\n",
      "Shrink model to first 2353 iterations.\n",
      "%==============================================================\n",
      "                      Fold number 5\n",
      "\n",
      "%==============================================================\n"
     ]
    },
    {
     "data": {
      "application/vnd.jupyter.widget-view+json": {
       "model_id": "af0a337176c946ba9bffd12daee5dd63",
       "version_major": 2,
       "version_minor": 0
      },
      "text/plain": [
       "MetricVisualizer(layout=Layout(align_self='stretch', height='500px'))"
      ]
     },
     "metadata": {},
     "output_type": "display_data"
    },
    {
     "name": "stdout",
     "output_type": "stream",
     "text": [
      "0:\tlearn: 0.6117000\ttest: 0.6118954\tbest: 0.6118954 (0)\ttotal: 259ms\tremaining: 10m 47s\n",
      "100:\tlearn: 0.2320604\ttest: 0.2336117\tbest: 0.2336117 (100)\ttotal: 19s\tremaining: 7m 31s\n",
      "200:\tlearn: 0.2245658\ttest: 0.2277310\tbest: 0.2277310 (200)\ttotal: 41.4s\tremaining: 7m 53s\n",
      "300:\tlearn: 0.2206355\ttest: 0.2254107\tbest: 0.2254107 (300)\ttotal: 2m 22s\tremaining: 17m 24s\n",
      "400:\tlearn: 0.2177587\ttest: 0.2241514\tbest: 0.2241514 (400)\ttotal: 4m 13s\tremaining: 22m 5s\n",
      "500:\tlearn: 0.2153748\ttest: 0.2234639\tbest: 0.2234639 (500)\ttotal: 5m 57s\tremaining: 23m 47s\n",
      "600:\tlearn: 0.2131771\ttest: 0.2229030\tbest: 0.2229030 (600)\ttotal: 7m 44s\tremaining: 24m 28s\n",
      "700:\tlearn: 0.2111403\ttest: 0.2225220\tbest: 0.2225220 (700)\ttotal: 9m 40s\tremaining: 24m 49s\n",
      "800:\tlearn: 0.2092143\ttest: 0.2223002\tbest: 0.2222963 (799)\ttotal: 11m 28s\tremaining: 24m 20s\n",
      "900:\tlearn: 0.2073869\ttest: 0.2220679\tbest: 0.2220679 (900)\ttotal: 13m 8s\tremaining: 23m 19s\n",
      "1000:\tlearn: 0.2055967\ttest: 0.2218211\tbest: 0.2218201 (998)\ttotal: 14m 49s\tremaining: 22m 12s\n",
      "1100:\tlearn: 0.2038685\ttest: 0.2217121\tbest: 0.2216987 (1097)\ttotal: 16m 33s\tremaining: 21m 2s\n",
      "1200:\tlearn: 0.2021651\ttest: 0.2215380\tbest: 0.2215380 (1200)\ttotal: 18m 22s\tremaining: 19m 52s\n",
      "1300:\tlearn: 0.2005097\ttest: 0.2214994\tbest: 0.2214963 (1292)\ttotal: 20m 10s\tremaining: 18m 35s\n",
      "1400:\tlearn: 0.1989124\ttest: 0.2214241\tbest: 0.2214186 (1377)\ttotal: 22m 1s\tremaining: 17m 16s\n",
      "1500:\tlearn: 0.1972986\ttest: 0.2213374\tbest: 0.2213318 (1491)\ttotal: 23m 48s\tremaining: 15m 50s\n",
      "1600:\tlearn: 0.1957239\ttest: 0.2213055\tbest: 0.2212967 (1544)\ttotal: 25m 36s\tremaining: 14m 22s\n",
      "1700:\tlearn: 0.1941883\ttest: 0.2212507\tbest: 0.2212502 (1698)\ttotal: 27m 35s\tremaining: 12m 57s\n",
      "1800:\tlearn: 0.1926893\ttest: 0.2212304\tbest: 0.2211922 (1769)\ttotal: 29m 19s\tremaining: 11m 23s\n",
      "1900:\tlearn: 0.1912420\ttest: 0.2211568\tbest: 0.2211529 (1887)\ttotal: 31m\tremaining: 9m 46s\n",
      "2000:\tlearn: 0.1897940\ttest: 0.2211084\tbest: 0.2211071 (1944)\ttotal: 32m 48s\tremaining: 8m 10s\n",
      "2100:\tlearn: 0.1883497\ttest: 0.2211604\tbest: 0.2210761 (2024)\ttotal: 34m 39s\tremaining: 6m 34s\n",
      "2200:\tlearn: 0.1869156\ttest: 0.2211385\tbest: 0.2210761 (2024)\ttotal: 36m 31s\tremaining: 4m 57s\n",
      "2300:\tlearn: 0.1854974\ttest: 0.2211394\tbest: 0.2210761 (2024)\ttotal: 38m 20s\tremaining: 3m 18s\n",
      "2400:\tlearn: 0.1840943\ttest: 0.2211589\tbest: 0.2210761 (2024)\ttotal: 40m 4s\tremaining: 1m 39s\n",
      "2499:\tlearn: 0.1827418\ttest: 0.2211619\tbest: 0.2210761 (2024)\ttotal: 41m 52s\tremaining: 0us\n",
      "bestTest = 0.2210761429\n",
      "bestIteration = 2024\n",
      "Shrink model to first 2025 iterations.\n"
     ]
    }
   ],
   "source": [
    "folds = StratifiedKFold(n_splits=5, shuffle=True, random_state=333)\\\n",
    "        .split(X=train[training_features], y=train[['target']])\n",
    "y_pred = np.full(shape=(len(train),), fill_value=np.nan)\n",
    "y_true = train[['target']]\n",
    "\n",
    "for count, (train_id, valid_id) in enumerate(folds):\n",
    "    \n",
    "    print('%==============================================================')\n",
    "    print(f'                      Fold number {count+1}')\n",
    "    print('\\n%==============================================================')\n",
    "    \n",
    "    # Split test and validation sets and place them into Pool objects\n",
    "    x_train, x_valid = (\n",
    "        train[training_features].iloc[train_id, :],\n",
    "        train[training_features].iloc[valid_id, :]\n",
    "    )\n",
    "    y_train, y_valid= (\n",
    "        train[['target']].iloc[train_id, :],\n",
    "        train[['target']].iloc[valid_id, :]\n",
    "    )\n",
    "    train_data = Pool(data=x_train, label=y_train, cat_features=categorical_features)\n",
    "    valid_data = Pool(data=x_valid, label=y_valid, cat_features=categorical_features)\n",
    "    # Build model\n",
    "    model = CatBoostClassifier(\n",
    "        iterations=2500,\n",
    "        loss_function='Logloss',\n",
    "        task_type='GPU',\n",
    "        devices='0-2',\n",
    "        verbose=100,\n",
    "        l2_leaf_reg=0.90,\n",
    "        learning_rate=0.070,\n",
    "        depth=5,\n",
    "        min_data_in_leaf=3,\n",
    "        bootstrap_type=['Bayesian', 'Bernoulli', 'MVS', 'No'][0],\n",
    "        score_function=['Cosine', 'L2', 'NewtonCosine', 'NewtonL2'][0]\n",
    "    )\n",
    "    # Fit model\n",
    "    model.fit(\n",
    "        X=train_data,\n",
    "        eval_set=valid_data,\n",
    "        plot=True\n",
    "    )\n",
    "    # Calculate amex_metric(y_true, y_pred) with appropriate naming convention and append to score list\n",
    "    # Predictions are calculated fold by fold using the 'out-of-fold' predictions, in other words, \n",
    "    # validation set predictions.\n",
    "    y_pred[valid_id] = model.predict_proba(x_valid)[:, 1]\n",
    "    \n",
    "y_pred = pd.DataFrame(data=y_pred, columns=['prediction'])"
   ]
  },
  {
   "cell_type": "code",
   "execution_count": 8,
   "id": "17b05255",
   "metadata": {},
   "outputs": [
    {
     "name": "stdout",
     "output_type": "stream",
     "text": [
      "Competition metric CV score: 78.8 %.\n"
     ]
    }
   ],
   "source": [
    "print(f'Competition metric CV score: {str(round(amex_metric(y_true, y_pred)*100, 2))} %.')"
   ]
  },
  {
   "cell_type": "markdown",
   "id": "3c20a6b2",
   "metadata": {},
   "source": [
    "# Trying out configs"
   ]
  },
  {
   "cell_type": "code",
   "execution_count": 9,
   "id": "d58a38d5",
   "metadata": {},
   "outputs": [],
   "source": [
    "x_train, x_valid, y_train, y_valid = train_test_split(train[training_features],\n",
    "                                                      train[['target']], test_size=0.20, random_state=333,\n",
    "                                                     stratify=train[['target']])"
   ]
  },
  {
   "cell_type": "code",
   "execution_count": 10,
   "id": "47f3f155",
   "metadata": {},
   "outputs": [],
   "source": [
    "# Data in a catboost.Pool object\n",
    "train_data = Pool(\n",
    "    data=x_train,\n",
    "    label=y_train,\n",
    "    cat_features=categorical_features\n",
    ")\n",
    "valid_data = Pool(\n",
    "    data=x_valid,\n",
    "    label=y_valid,\n",
    "    cat_features=categorical_features\n",
    ")"
   ]
  },
  {
   "cell_type": "code",
   "execution_count": 13,
   "id": "73f6cefa",
   "metadata": {},
   "outputs": [
    {
     "name": "stdout",
     "output_type": "stream",
     "text": [
      "0:\tlearn: 0.6159525\ttest: 0.6161246\tbest: 0.6161246 (0)\ttotal: 321ms\tremaining: 2m 40s\n",
      "100:\tlearn: 0.2325325\ttest: 0.2354872\tbest: 0.2354872 (100)\ttotal: 1m 38s\tremaining: 6m 27s\n",
      "200:\tlearn: 0.2252947\ttest: 0.2295452\tbest: 0.2295452 (200)\ttotal: 3m 24s\tremaining: 5m 3s\n",
      "300:\tlearn: 0.2214723\ttest: 0.2271348\tbest: 0.2271348 (300)\ttotal: 5m 9s\tremaining: 3m 24s\n",
      "400:\tlearn: 0.2186941\ttest: 0.2259550\tbest: 0.2259550 (400)\ttotal: 6m 52s\tremaining: 1m 41s\n",
      "499:\tlearn: 0.2163903\ttest: 0.2251764\tbest: 0.2251764 (499)\ttotal: 8m 33s\tremaining: 0us\n",
      "bestTest = 0.2251763756\n",
      "bestIteration = 499\n"
     ]
    },
    {
     "data": {
      "text/plain": [
       "<catboost.core.CatBoostClassifier at 0x1628296c520>"
      ]
     },
     "execution_count": 13,
     "metadata": {},
     "output_type": "execute_result"
    }
   ],
   "source": [
    "model = CatBoostClassifier(\n",
    "    iterations=500,\n",
    "    loss_function='Logloss',\n",
    "    task_type='GPU',\n",
    "    devices='0-2',\n",
    "    verbose=100,\n",
    "    l2_leaf_reg=[0.1, 0.5, 1, 2, 5, 10][2],\n",
    "    learning_rate=0.068,\n",
    "    depth=5,\n",
    "    min_data_in_leaf=1,\n",
    "    bootstrap_type=['Bayesian', 'Bernoulli', 'MVS', 'No'][0],\n",
    "    score_function=['Cosine', 'L2', 'NewtonCosine', 'NewtonL2'][0]\n",
    ")\n",
    "\n",
    "model.fit(\n",
    "    X=train_data,\n",
    "    eval_set=valid_data\n",
    ")"
   ]
  },
  {
   "cell_type": "code",
   "execution_count": null,
   "id": "1bd07aa0",
   "metadata": {},
   "outputs": [],
   "source": []
  }
 ],
 "metadata": {
  "kernelspec": {
   "display_name": "Python 3 (ipykernel)",
   "language": "python",
   "name": "python3"
  },
  "language_info": {
   "codemirror_mode": {
    "name": "ipython",
    "version": 3
   },
   "file_extension": ".py",
   "mimetype": "text/x-python",
   "name": "python",
   "nbconvert_exporter": "python",
   "pygments_lexer": "ipython3",
   "version": "3.9.7"
  }
 },
 "nbformat": 4,
 "nbformat_minor": 5
}
