{
 "cells": [
  {
   "cell_type": "code",
   "execution_count": 1,
   "id": "bba6c38b",
   "metadata": {},
   "outputs": [],
   "source": [
    "from catboost import Pool, CatBoostClassifier\n",
    "\n",
    "import vaex\n",
    "import pandas as pd\n",
    "import numpy as np\n",
    "\n",
    "from amex_metric import amex_metric"
   ]
  },
  {
   "cell_type": "code",
   "execution_count": 14,
   "id": "2ceb4e7a",
   "metadata": {},
   "outputs": [],
   "source": [
    "def column_selector(df, original_col):\n",
    "    \n",
    "    all_cols = df.columns\n",
    "    selection = [agg_col for agg_col in all_cols if agg_col.startswith(original_col)]\n",
    "    \n",
    "    return selection\n",
    "\n",
    "\n",
    "def cat_datatypes_check(df_in, categorical_features):\n",
    "    \n",
    "    # Shallow copy not to modify input dataframe directly\n",
    "    df_out = df_in.copy()\n",
    "    \n",
    "    # Scan for possible convertions to 'int' and 'str', acceptable types for categorical features\n",
    "    for feature, dtype in zip(categorical_features, df_out[categorical_features].dtypes.values):\n",
    "        if str(dtype).startswith('float'):\n",
    "            df_out[feature] = df_out[feature].astype('int16')\n",
    "        elif str(dtype).startswith('object'):\n",
    "            df_out[feature] = df_out[feature].astype('str')\n",
    "        else:\n",
    "            continue\n",
    "            \n",
    "    return df_out"
   ]
  },
  {
   "cell_type": "code",
   "execution_count": 3,
   "id": "3166a1cf",
   "metadata": {},
   "outputs": [],
   "source": [
    "train = pd.read_parquet('train_agg_filtered_2.parquet')\n",
    "test = pd.read_parquet('test_agg_filtered_2.parquet')"
   ]
  },
  {
   "cell_type": "code",
   "execution_count": 4,
   "id": "19288f55",
   "metadata": {},
   "outputs": [],
   "source": [
    "for col, coltype in zip(train.columns, train.dtypes.values):\n",
    "    if str(coltype).startswith('float'):\n",
    "        train[col] = train[col].astype('float16')\n",
    "    elif str(coltype).startswith('int'):\n",
    "        train[col] = train[col].astype('int16')\n",
    "        \n",
    "for col, coltype in zip(test.columns, test.dtypes.values):\n",
    "    if str(coltype).startswith('float'):\n",
    "        test[col] = test[col].astype('float16')\n",
    "    elif str(coltype).startswith('int'):\n",
    "        test[col] = test[col].astype('int16')"
   ]
  },
  {
   "cell_type": "code",
   "execution_count": 5,
   "id": "dd272b3a",
   "metadata": {},
   "outputs": [],
   "source": [
    "# Columnn names lists for easier selection later on:\n",
    "# All columns\n",
    "all_columns = list(train.columns)\n",
    "# Training features\n",
    "training_features = list(set(all_columns) - set(['target']))\n",
    "# Categorical features (as per https://www.kaggle.com/competitions/amex-default-prediction/data)\n",
    "categorical_features_old = ['B_30', 'B_38', 'D_114', 'D_116', 'D_117', 'D_120', 'D_126', 'D_63', 'D_64',\n",
    "                        'D_66', 'D_68']\n",
    "categorical_features = []\n",
    "for i in range(len(categorical_features_old)):\n",
    "    categorical_features += column_selector(train, categorical_features_old[i])\n",
    "    \n",
    "numerical_features = list(set(training_features) - set(categorical_features))"
   ]
  },
  {
   "cell_type": "markdown",
   "id": "197ec8d8",
   "metadata": {},
   "source": [
    "# Training"
   ]
  },
  {
   "cell_type": "code",
   "execution_count": 7,
   "id": "ef1e46f6",
   "metadata": {},
   "outputs": [
    {
     "name": "stdout",
     "output_type": "stream",
     "text": [
      "0:\tlearn: 0.6124233\ttotal: 253ms\tremaining: 10m 31s\n",
      "100:\tlearn: 0.2322530\ttotal: 22.5s\tremaining: 8m 54s\n",
      "200:\tlearn: 0.2249842\ttotal: 44.6s\tremaining: 8m 29s\n",
      "300:\tlearn: 0.2213607\ttotal: 1m 6s\tremaining: 8m 4s\n",
      "400:\tlearn: 0.2187159\ttotal: 1m 27s\tremaining: 7m 40s\n",
      "500:\tlearn: 0.2166174\ttotal: 1m 49s\tremaining: 7m 16s\n",
      "600:\tlearn: 0.2147534\ttotal: 2m 10s\tremaining: 6m 52s\n",
      "700:\tlearn: 0.2130580\ttotal: 2m 32s\tremaining: 6m 30s\n",
      "800:\tlearn: 0.2114114\ttotal: 2m 56s\tremaining: 6m 13s\n",
      "900:\tlearn: 0.2098662\ttotal: 3m 24s\tremaining: 6m 3s\n",
      "1000:\tlearn: 0.2083754\ttotal: 3m 52s\tremaining: 5m 48s\n",
      "1100:\tlearn: 0.2069091\ttotal: 4m 25s\tremaining: 5m 37s\n",
      "1200:\tlearn: 0.2054638\ttotal: 5m 10s\tremaining: 5m 35s\n",
      "1300:\tlearn: 0.2040730\ttotal: 5m 58s\tremaining: 5m 30s\n",
      "1400:\tlearn: 0.2027213\ttotal: 6m 56s\tremaining: 5m 26s\n",
      "1500:\tlearn: 0.2013737\ttotal: 8m 7s\tremaining: 5m 24s\n",
      "1600:\tlearn: 0.2000517\ttotal: 9m 39s\tremaining: 5m 25s\n",
      "1700:\tlearn: 0.1987791\ttotal: 11m 10s\tremaining: 5m 14s\n",
      "1800:\tlearn: 0.1974878\ttotal: 12m 28s\tremaining: 4m 50s\n",
      "1900:\tlearn: 0.1962249\ttotal: 14m 15s\tremaining: 4m 29s\n",
      "2000:\tlearn: 0.1950051\ttotal: 16m 21s\tremaining: 4m 4s\n",
      "2100:\tlearn: 0.1937698\ttotal: 18m 18s\tremaining: 3m 28s\n",
      "2200:\tlearn: 0.1925627\ttotal: 20m 30s\tremaining: 2m 47s\n",
      "2300:\tlearn: 0.1913946\ttotal: 22m 56s\tremaining: 1m 59s\n",
      "2400:\tlearn: 0.1902153\ttotal: 25m 29s\tremaining: 1m 3s\n",
      "2499:\tlearn: 0.1891138\ttotal: 27m 38s\tremaining: 0us\n"
     ]
    },
    {
     "data": {
      "text/plain": [
       "<catboost.core.CatBoostClassifier at 0x29261b94fd0>"
      ]
     },
     "execution_count": 7,
     "metadata": {},
     "output_type": "execute_result"
    }
   ],
   "source": [
    "train_data = Pool(\n",
    "    data=train[training_features],\n",
    "    label=train[['target']],\n",
    "    cat_features=categorical_features\n",
    ")\n",
    "\n",
    "model = CatBoostClassifier(\n",
    "        iterations=2500,\n",
    "        loss_function='Logloss',\n",
    "        task_type='GPU',\n",
    "        devices='0-2',\n",
    "        verbose=100,\n",
    "        l2_leaf_reg=0.90,\n",
    "        learning_rate=0.070,\n",
    "        depth=5,\n",
    "        min_data_in_leaf=3,\n",
    "        bootstrap_type=['Bayesian', 'Bernoulli', 'MVS', 'No'][0],\n",
    "        score_function=['Cosine', 'L2', 'NewtonCosine', 'NewtonL2'][0]\n",
    ")\n",
    "\n",
    "model.fit(X=train_data)"
   ]
  },
  {
   "cell_type": "markdown",
   "id": "bbb76082",
   "metadata": {},
   "source": [
    "# Submission"
   ]
  },
  {
   "cell_type": "code",
   "execution_count": 21,
   "id": "09b6c0e6",
   "metadata": {},
   "outputs": [],
   "source": [
    "test_data = Pool(\n",
    "    data=test[training_features],\n",
    "    cat_features=categorical_features\n",
    ")"
   ]
  },
  {
   "cell_type": "code",
   "execution_count": 31,
   "id": "515f13aa",
   "metadata": {},
   "outputs": [],
   "source": [
    "predictions = model.predict_proba(test_data)[:, 1]\n",
    "predictions = pd.DataFrame(predictions, columns=['prediction'])"
   ]
  },
  {
   "cell_type": "code",
   "execution_count": 27,
   "id": "0a8ff34c",
   "metadata": {},
   "outputs": [],
   "source": [
    "test_init = pd.read_pickle('test_agg.pkl', compression='gzip')"
   ]
  },
  {
   "cell_type": "code",
   "execution_count": 34,
   "id": "395a3950",
   "metadata": {},
   "outputs": [],
   "source": [
    "predictions['customer_ID'] = test_init.index"
   ]
  },
  {
   "cell_type": "code",
   "execution_count": 37,
   "id": "be28b420",
   "metadata": {},
   "outputs": [],
   "source": [
    "predictions = predictions.set_index('customer_ID')"
   ]
  },
  {
   "cell_type": "code",
   "execution_count": 38,
   "id": "d7c25d09",
   "metadata": {},
   "outputs": [],
   "source": [
    "predictions.to_csv('predictions.csv')"
   ]
  },
  {
   "cell_type": "code",
   "execution_count": null,
   "id": "f85dfef7",
   "metadata": {},
   "outputs": [],
   "source": []
  }
 ],
 "metadata": {
  "kernelspec": {
   "display_name": "Python 3 (ipykernel)",
   "language": "python",
   "name": "python3"
  },
  "language_info": {
   "codemirror_mode": {
    "name": "ipython",
    "version": 3
   },
   "file_extension": ".py",
   "mimetype": "text/x-python",
   "name": "python",
   "nbconvert_exporter": "python",
   "pygments_lexer": "ipython3",
   "version": "3.9.7"
  }
 },
 "nbformat": 4,
 "nbformat_minor": 5
}
